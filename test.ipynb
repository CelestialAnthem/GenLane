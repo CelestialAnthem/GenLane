{
 "cells": [
  {
   "cell_type": "code",
   "execution_count": 11,
   "metadata": {},
   "outputs": [],
   "source": [
    "import json\n",
    "\n",
    "path_list = [\n",
    "    '/mnt/share_disk/songyuhao/dinov2/demo-95w/demo-processed.jsonl',\n",
    "    '/mnt/share_disk/songyuhao/dinov2/demo-v1.0_100w/demo-processed.jsonl']\n",
    "\n",
    "data = {}\n",
    "for file_path in path_list:\n",
    "    with open(file_path, 'r', encoding=\"utf-8\") as f:\n",
    "        for line in f:\n",
    "            image_info = json.loads(line)\n",
    "            if image_info['type'] not in data:\n",
    "                data[image_info['type']] = []\n",
    "            data[image_info['type']].append(image_info['images'][0])"
   ]
  },
  {
   "cell_type": "code",
   "execution_count": 14,
   "metadata": {},
   "outputs": [
    {
     "name": "stdout",
     "output_type": "stream",
     "text": [
      "v3.0 653657\n",
      "nuscenes 145088\n",
      "xmt 88376\n",
      "v1.0 778360\n"
     ]
    }
   ],
   "source": [
    "for key,values in data.items():\n",
    "    print(key, len(values))"
   ]
  },
  {
   "cell_type": "code",
   "execution_count": 16,
   "metadata": {},
   "outputs": [],
   "source": [
    "from random import sample\n",
    "\n",
    "samples = []\n",
    "num_dict = {\n",
    "   'v3.0': 40000,\n",
    "   'nuscenes':20000,\n",
    "   'xmt':20000,\n",
    "    'v1.0':20000, \n",
    "}\n",
    "\n",
    "\n",
    "for key in data:\n",
    "    samples.extend(sample(data[key],num_dict[key]))"
   ]
  },
  {
   "cell_type": "code",
   "execution_count": 22,
   "metadata": {},
   "outputs": [],
   "source": [
    "def write_txt(file_name, data):\n",
    "    with open(file_name, 'w') as f:\n",
    "        for line in data:\n",
    "            f.write(line + '\\n')"
   ]
  },
  {
   "cell_type": "code",
   "execution_count": 23,
   "metadata": {},
   "outputs": [],
   "source": [
    "write_txt('origin_images_10w.txt', samples)"
   ]
  }
 ],
 "metadata": {
  "kernelspec": {
   "display_name": "diffusers",
   "language": "python",
   "name": "python3"
  },
  "language_info": {
   "codemirror_mode": {
    "name": "ipython",
    "version": 3
   },
   "file_extension": ".py",
   "mimetype": "text/x-python",
   "name": "python",
   "nbconvert_exporter": "python",
   "pygments_lexer": "ipython3",
   "version": "3.9.16"
  }
 },
 "nbformat": 4,
 "nbformat_minor": 2
}
